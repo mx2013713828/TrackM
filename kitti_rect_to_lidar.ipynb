{
 "cells": [
  {
   "cell_type": "code",
   "execution_count": 1,
   "id": "7b93663a",
   "metadata": {},
   "outputs": [],
   "source": [
    "import numpy as np\n",
    "from itertools import groupby\n"
   ]
  },
  {
   "cell_type": "code",
   "execution_count": 111,
   "id": "7bfd41e0",
   "metadata": {},
   "outputs": [],
   "source": [
    "class_to_id = {'Pedestrian':0, 'Car':1, 'Van':2}\n",
    "\n",
    "with open('data/0000.txt','r') as f:\n",
    "    lines = f.readlines()\n",
    "    all_labels = list()\n",
    "    for line in lines:\n",
    "        label_frame = line.split()\n",
    "        all_labels.append(label_frame)\n",
    "    grouped = group_by_first_element(np.array(all_labels))\n",
    "    \n",
    "    for key,group in grouped.items():\n",
    "        frame_id = ('000000' + key )[-6:]\n",
    "        for line in group:\n",
    "\n",
    "            class_name = line[2]\n",
    "            if class_name in class_to_id.keys():\n",
    "                class_num = class_to_id[class_name]\n",
    "                loc = np.array([[float(line[10]), float(line[11]), float(line[12])]])\n",
    "                h = float(line[11])\n",
    "                w = float(line[12])\n",
    "                l = float(line[13])\n",
    "                loc_lidar = calib.rect_to_lidar(loc)\n",
    "                loc_lidar[:, 2] += h/2  \n",
    "                \n",
    "            \n",
    "        #output format x,y,z,h,w,l,yaw,class\n",
    "            "
   ]
  },
  {
   "cell_type": "code",
   "execution_count": null,
   "id": "7f93ae84",
   "metadata": {},
   "outputs": [],
   "source": []
  },
  {
   "cell_type": "code",
   "execution_count": 100,
   "id": "7b2d3222",
   "metadata": {},
   "outputs": [],
   "source": [
    "def group_by_first_element(arr):\n",
    "    # 先对数组按每行的第一个元素进行排序\n",
    "    arr_sorted = arr[arr[:, 0].argsort()]\n",
    "    \n",
    "    # 然后使用 groupby 进行分组\n",
    "    grouped = {}\n",
    "    for key, group in groupby(arr_sorted, lambda x: x[0]):\n",
    "        grouped[key] = np.array(list(group))\n",
    "    \n",
    "    return grouped\n",
    "\n",
    "# 示例输入\n",
    "arr = np.array([\n",
    "    [1, 2, 3],\n",
    "    [2, 3, 4],\n",
    "    [1, 4, 5],\n",
    "    [3, 1, 1],\n",
    "    [2, 2, 2]\n",
    "])\n",
    "\n",
    "# 调用分组函数\n",
    "# grouped = group_by_first_element(arr)\n",
    "\n",
    "# # 输出结果\n",
    "# for key, group in grouped.items():\n",
    "#     print(f\"Group {key}:\")\n",
    "#     print(group)"
   ]
  },
  {
   "cell_type": "code",
   "execution_count": null,
   "id": "23b75489",
   "metadata": {},
   "outputs": [],
   "source": [
    "line.split()"
   ]
  },
  {
   "cell_type": "code",
   "execution_count": null,
   "id": "20ce3184",
   "metadata": {},
   "outputs": [],
   "source": [
    "grouped = group_by_first_element(np.array(all_labels))"
   ]
  },
  {
   "cell_type": "code",
   "execution_count": 51,
   "id": "d8d081ec",
   "metadata": {},
   "outputs": [
    {
     "data": {
      "text/plain": [
       "'2'"
      ]
     },
     "execution_count": 51,
     "metadata": {},
     "output_type": "execute_result"
    }
   ],
   "source": [
    "('12'+'23')[2]"
   ]
  },
  {
   "cell_type": "code",
   "execution_count": 53,
   "id": "9fa5e3e7",
   "metadata": {},
   "outputs": [
    {
     "data": {
      "text/plain": [
       "'000123'"
      ]
     },
     "execution_count": 53,
     "metadata": {},
     "output_type": "execute_result"
    }
   ],
   "source": [
    "'0000123'[-6:]"
   ]
  },
  {
   "cell_type": "code",
   "execution_count": 57,
   "id": "535ef922",
   "metadata": {},
   "outputs": [],
   "source": [
    "a = np.array([])"
   ]
  },
  {
   "cell_type": "code",
   "execution_count": null,
   "id": "5c3311b5",
   "metadata": {},
   "outputs": [],
   "source": []
  },
  {
   "cell_type": "code",
   "execution_count": null,
   "id": "65bfead0",
   "metadata": {},
   "outputs": [],
   "source": []
  },
  {
   "cell_type": "code",
   "execution_count": null,
   "id": "aaf99be0",
   "metadata": {},
   "outputs": [],
   "source": []
  },
  {
   "cell_type": "code",
   "execution_count": 151,
   "id": "725df057",
   "metadata": {},
   "outputs": [
    {
     "data": {
      "text/plain": [
       "array([[[1498.42920367],\n",
       "        [1498.42920367],\n",
       "        [1495.92920367]]])"
      ]
     },
     "execution_count": 151,
     "metadata": {},
     "output_type": "execute_result"
    }
   ],
   "source": [
    "-(np.pi/2 + loc[...,np.newaxis])"
   ]
  },
  {
   "cell_type": "code",
   "execution_count": 163,
   "id": "2c3f799a",
   "metadata": {},
   "outputs": [],
   "source": [
    "with open('data/test.txt','w') as fw:\n",
    "    fw.writelines(a)"
   ]
  },
  {
   "cell_type": "code",
   "execution_count": 164,
   "id": "a6cbc1a6",
   "metadata": {},
   "outputs": [
    {
     "name": "stdout",
     "output_type": "stream",
     "text": [
      "Convex area: 5.0\n"
     ]
    }
   ],
   "source": [
    "import numpy as np\n",
    "from scipy.spatial import ConvexHull\n",
    "\n",
    "def PolyArea2D(pts):\n",
    "    \"\"\"\n",
    "    Calculate the area of a 2D polygon.\n",
    "    :param pts: (N, 2) array of polygon vertices.\n",
    "    :return: area of the polygon.\n",
    "    \"\"\"\n",
    "    lines = np.hstack([pts, np.roll(pts, -1, axis=0)])\n",
    "    return 0.5 * np.abs(np.sum(lines[:, 0] * lines[:, 3] - lines[:, 2] * lines[:, 1]))\n",
    "\n",
    "def convex_area(boxa_bottom, boxb_bottom):\n",
    "    \"\"\"\n",
    "    Calculate the convex area of the combined bottom corners of two bounding boxes.\n",
    "    :param boxa_bottom: (4, 2) array of bottom corners of the first bounding box.\n",
    "    :param boxb_bottom: (4, 2) array of bottom corners of the second bounding box.\n",
    "    :return: convex area of the combined corners.\n",
    "    \"\"\"\n",
    "    # Combine the bottom corners of both bounding boxes\n",
    "    all_corners = np.vstack((boxa_bottom, boxb_bottom))\n",
    "    \n",
    "    # Compute the convex hull of the combined corners\n",
    "    C = ConvexHull(all_corners)\n",
    "    \n",
    "    # Extract the vertices of the convex hull\n",
    "    convex_corners = all_corners[C.vertices]\n",
    "    \n",
    "    # Calculate the area of the convex hull\n",
    "    convex_area = PolyArea2D(convex_corners)\n",
    "    \n",
    "    return convex_area\n",
    "\n",
    "# Example usage:\n",
    "boxa_bottom = np.array([[0, 0], [1, 0], [1, 1], [0, 1]])\n",
    "boxb_bottom = np.array([[2, 2], [3, 2], [3, 3], [2, 3]])\n",
    "area = convex_area(boxa_bottom, boxb_bottom)\n",
    "print(f\"Convex area: {area}\")\n"
   ]
  },
  {
   "cell_type": "code",
   "execution_count": null,
   "id": "10616470",
   "metadata": {},
   "outputs": [],
   "source": []
  },
  {
   "cell_type": "code",
   "execution_count": 172,
   "id": "55b6c681",
   "metadata": {},
   "outputs": [],
   "source": [
    "def calculate_iou(poly1, poly2):\n",
    "    # 计算交集面积\n",
    "    interArea = polygon_intersection_area(poly1, poly2)\n",
    "    \n",
    "    # 计算各自的面积\n",
    "    poly1_area = polygon_area(poly1)\n",
    "    poly2_area = polygon_area(poly2)\n",
    "\n",
    "    # 计算IoU\n",
    "    iou = interArea / float(poly1_area + poly2_area - interArea)\n",
    "\n",
    "    return iou\n",
    "\n",
    "def calculate_giou(poly1, poly2):\n",
    "    # 计算IoU\n",
    "    iou = calculate_iou(poly1, poly2)\n",
    "\n",
    "    # 计算封闭框（convex hull）\n",
    "    xC1 = min(np.min(poly1[:, 0]), np.min(poly2[:, 0]))\n",
    "    yC1 = min(np.min(poly1[:, 1]), np.min(poly2[:, 1]))\n",
    "    xC2 = max(np.max(poly1[:, 0]), np.max(poly2[:, 0]))\n",
    "    yC2 = max(np.max(poly1[:, 1]), np.max(poly2[:, 1]))\n",
    "\n",
    "    # 计算封闭框的面积\n",
    "    convexArea = (xC2 - xC1) * (yC2 - yC1)\n",
    "\n",
    "    # 计算GIoU\n",
    "    giou = iou - (convexArea - (poly1_area + poly2_area - interArea)) / float(convexArea)\n",
    "\n",
    "    return giou\n"
   ]
  },
  {
   "cell_type": "code",
   "execution_count": 181,
   "id": "be5901ba",
   "metadata": {},
   "outputs": [],
   "source": [
    "def sutherland_hodgman_clip(subject_polygon, clip_polygon):\n",
    "    \"\"\"Clip a polygon with another polygon using the Sutherland-Hodgman algorithm.\"\"\"\n",
    "    def inside(p, edge_start, edge_end):\n",
    "        return (edge_end[0] - edge_start[0]) * (p[1] - edge_start[1]) > (edge_end[1] - edge_start[1]) * (p[0] - edge_start[0])\n",
    "\n",
    "    def compute_intersection(p1, p2, p3, p4):\n",
    "        denom = (p1[0] - p2[0]) * (p3[1] - p4[1]) - (p1[1] - p2[1]) * (p3[0] - p4[0])\n",
    "        if denom == 0:\n",
    "            return None\n",
    "        x = ((p1[0] * p2[1] - p1[1] * p2[0]) * (p3[0] - p4[0]) - (p1[0] - p2[0]) * (p3[0] * p4[1] - p3[1] * p4[0])) / denom\n",
    "        y = ((p1[0] * p2[1] - p1[1] * p2[0]) * (p3[1] - p4[1]) - (p1[1] - p2[1]) * (p3[0] * p4[1] - p3[1] * p4[0])) / denom\n",
    "        return np.array([x, y])\n",
    "\n",
    "    output_list = subject_polygon\n",
    "    for i in range(len(clip_polygon)):\n",
    "        input_list = output_list\n",
    "        output_list = []\n",
    "        if len(input_list) == 0:\n",
    "            break\n",
    "        edge_start = clip_polygon[i]\n",
    "        edge_end = clip_polygon[(i + 1) % len(clip_polygon)]\n",
    "        for j in range(len(input_list)):\n",
    "            current_point = input_list[j]\n",
    "            prev_point = input_list[(j - 1) % len(input_list)]\n",
    "            if inside(current_point, edge_start, edge_end):\n",
    "                if not inside(prev_point, edge_start, edge_end):\n",
    "                    output_list.append(compute_intersection(prev_point, current_point, edge_start, edge_end))\n",
    "                output_list.append(current_point)\n",
    "            elif inside(prev_point, edge_start, edge_end):\n",
    "                output_list.append(compute_intersection(prev_point, current_point, edge_start, edge_end))\n",
    "    return np.array(output_list)"
   ]
  },
  {
   "cell_type": "code",
   "execution_count": null,
   "id": "67900e61",
   "metadata": {},
   "outputs": [],
   "source": []
  },
  {
   "cell_type": "code",
   "execution_count": 2,
   "id": "cc0269b2",
   "metadata": {},
   "outputs": [
    {
     "name": "stdout",
     "output_type": "stream",
     "text": [
      "IOU: 0.14285714285714285\n"
     ]
    }
   ],
   "source": [
    "import numpy as np\n",
    "\n",
    "def polygon_area(vertices):\n",
    "    \"\"\"Calculate the area of a polygon given its vertices using the Shoelace formula.\"\"\"\n",
    "    x = vertices[:, 0]\n",
    "    y = vertices[:, 1]\n",
    "    return 0.5 * np.abs(np.dot(x, np.roll(y, 1)) - np.dot(y, np.roll(x, 1)))\n",
    "\n",
    "def sutherland_hodgman_clip(subject_polygon, clip_polygon):\n",
    "    \"\"\"Clip a polygon with another polygon using the Sutherland-Hodgman algorithm.\"\"\"\n",
    "    def inside(p, edge_start, edge_end):\n",
    "        return (edge_end[0] - edge_start[0]) * (p[1] - edge_start[1]) > (edge_end[1] - edge_start[1]) * (p[0] - edge_start[0])\n",
    "\n",
    "    def compute_intersection(p1, p2, p3, p4):\n",
    "        denom = (p1[0] - p2[0]) * (p3[1] - p4[1]) - (p1[1] - p2[1]) * (p3[0] - p4[0])\n",
    "        if denom == 0:\n",
    "            return None\n",
    "        x = ((p1[0] * p2[1] - p1[1] * p2[0]) * (p3[0] - p4[0]) - (p1[0] - p2[0]) * (p3[0] * p4[1] - p3[1] * p4[0])) / denom\n",
    "        y = ((p1[0] * p2[1] - p1[1] * p2[0]) * (p3[1] - p4[1]) - (p1[1] - p2[1]) * (p3[0] * p4[1] - p3[1] * p4[0])) / denom\n",
    "        return np.array([x, y])\n",
    "\n",
    "    output_list = subject_polygon\n",
    "    for i in range(len(clip_polygon)):\n",
    "        input_list = output_list\n",
    "        output_list = []\n",
    "        if len(input_list) == 0:\n",
    "            break\n",
    "        edge_start = clip_polygon[i]\n",
    "        edge_end = clip_polygon[(i + 1) % len(clip_polygon)]\n",
    "        for j in range(len(input_list)):\n",
    "            current_point = input_list[j]\n",
    "            prev_point = input_list[(j - 1) % len(input_list)]\n",
    "            if inside(current_point, edge_start, edge_end):\n",
    "                if not inside(prev_point, edge_start, edge_end):\n",
    "                    intersection = compute_intersection(prev_point, current_point, edge_start, edge_end)\n",
    "                    if intersection is not None:\n",
    "                        output_list.append(intersection)\n",
    "                output_list.append(current_point)\n",
    "            elif inside(prev_point, edge_start, edge_end):\n",
    "                intersection = compute_intersection(prev_point, current_point, edge_start, edge_end)\n",
    "                if intersection is not None:\n",
    "                    output_list.append(intersection)\n",
    "    return np.array(output_list)\n",
    "\n",
    "def calculate_iou(poly1_coords, poly2_coords):\n",
    "    \"\"\"Calculate the Intersection over Union (IOU) of two polygons.\"\"\"\n",
    "    poly1_coords = np.array(poly1_coords)\n",
    "    poly2_coords = np.array(poly2_coords)\n",
    "\n",
    "    # Calculate the intersection polygon\n",
    "    intersection_polygon = sutherland_hodgman_clip(poly1_coords, poly2_coords)\n",
    "    if len(intersection_polygon) < 3:  # Not a valid polygon if it has less than 3 vertices\n",
    "        return 0.0\n",
    "\n",
    "    # Calculate the area of each polygon\n",
    "    area1 = polygon_area(poly1_coords)\n",
    "    area2 = polygon_area(poly2_coords)\n",
    "    intersection_area = polygon_area(intersection_polygon)\n",
    "\n",
    "    # Calculate the union area\n",
    "    union_area = area1 + area2 - intersection_area\n",
    "\n",
    "    # Calculate IOU\n",
    "    iou = intersection_area / union_area\n",
    "    return iou\n",
    "\n",
    "# 示例坐标\n",
    "poly1_coords = [(0, 0), (2, 0), (2, 2), (0, 2)]\n",
    "poly2_coords = [(1, 1), (3, 1), (3, 3), (1, 3)]\n",
    "\n",
    "# 计算IOU\n",
    "iou = calculate_iou(poly1_coords, poly2_coords)\n",
    "print(f'IOU: {iou}')\n"
   ]
  },
  {
   "cell_type": "code",
   "execution_count": 32,
   "id": "a328b308",
   "metadata": {},
   "outputs": [
    {
     "name": "stdout",
     "output_type": "stream",
     "text": [
      "IOU: 0.3333333333333333\n"
     ]
    }
   ],
   "source": [
    "poly1_coords = [(0, 0), (0, 2), (4, 2), (4, 0)]\n",
    "poly2_coords = [(1, 0), (3, 0), (3, 4), (1, 4)]\n",
    "\n",
    "# 计算IOU\n",
    "iou = calculate_iou(poly1_coords, poly2_coords)\n",
    "print(f'IOU: {iou}')"
   ]
  },
  {
   "cell_type": "code",
   "execution_count": 9,
   "id": "c307a86c",
   "metadata": {},
   "outputs": [
    {
     "name": "stdout",
     "output_type": "stream",
     "text": [
      "[[ 1. -0.]\n",
      " [ 3.  0.]\n",
      " [ 3.  2.]\n",
      " [ 1.  2.]]\n",
      "4.0\n"
     ]
    }
   ],
   "source": [
    "intersec = sutherland_hodgman_clip(poly1_coords, poly2_coords)\n",
    "print(intersec)\n",
    "area = polygon_area(intersec)\n",
    "print(area)"
   ]
  },
  {
   "cell_type": "code",
   "execution_count": 21,
   "id": "4855dc5d",
   "metadata": {},
   "outputs": [],
   "source": [
    "def is_clockwise(vertices):\n",
    "    \"\"\"Check if the polygon vertices are in clockwise order.\"\"\"\n",
    "    total = 0\n",
    "    for i in range(len(vertices)):\n",
    "        x1, y1 = vertices[i]\n",
    "        x2, y2 = vertices[(i + 1) % len(vertices)]\n",
    "        total += (x2 - x1) * (y2 + y1)\n",
    "    return total > 0\n",
    "\n",
    "def ensure_clockwise(vertices):\n",
    "    \"\"\"Ensure the vertices are in clockwise order.\"\"\"\n",
    "    if not is_clockwise(vertices):\n",
    "        vertices = np.flipud(vertices)\n",
    "    return vertices"
   ]
  },
  {
   "cell_type": "code",
   "execution_count": 35,
   "id": "6073731a",
   "metadata": {},
   "outputs": [
    {
     "data": {
      "text/plain": [
       "4.0"
      ]
     },
     "execution_count": 35,
     "metadata": {},
     "output_type": "execute_result"
    }
   ],
   "source": [
    "polygon_area(np.array([[3,0],[1,0],[1,2],[3,2]]))"
   ]
  },
  {
   "cell_type": "code",
   "execution_count": 14,
   "id": "2344307f",
   "metadata": {},
   "outputs": [
    {
     "data": {
      "text/plain": [
       "numpy.ndarray"
      ]
     },
     "execution_count": 14,
     "metadata": {},
     "output_type": "execute_result"
    }
   ],
   "source": [
    "type(intersec[0])"
   ]
  },
  {
   "cell_type": "code",
   "execution_count": 23,
   "id": "4abc1fd7",
   "metadata": {},
   "outputs": [
    {
     "data": {
      "text/plain": [
       "array([[ 1, -1],\n",
       "       [ 1,  2],\n",
       "       [ 3,  2],\n",
       "       [ 3,  0]])"
      ]
     },
     "execution_count": 23,
     "metadata": {},
     "output_type": "execute_result"
    }
   ],
   "source": [
    "ensure_clockwise(np.array([[3,0],[3,2],[1,2],[1,-1]]))"
   ]
  },
  {
   "cell_type": "code",
   "execution_count": 33,
   "id": "646fb705",
   "metadata": {},
   "outputs": [
    {
     "data": {
      "text/plain": [
       "array([[3., 0.],\n",
       "       [1., 0.],\n",
       "       [1., 2.],\n",
       "       [3., 2.]])"
      ]
     },
     "execution_count": 33,
     "metadata": {},
     "output_type": "execute_result"
    }
   ],
   "source": [
    "sutherland_hodgman_clip(poly1_coords, poly2_coords)"
   ]
  },
  {
   "cell_type": "code",
   "execution_count": null,
   "id": "29756615",
   "metadata": {},
   "outputs": [],
   "source": []
  }
 ],
 "metadata": {
  "kernelspec": {
   "display_name": "pcd",
   "language": "python",
   "name": "pcd"
  },
  "language_info": {
   "codemirror_mode": {
    "name": "ipython",
    "version": 3
   },
   "file_extension": ".py",
   "mimetype": "text/x-python",
   "name": "python",
   "nbconvert_exporter": "python",
   "pygments_lexer": "ipython3",
   "version": "3.8.18"
  }
 },
 "nbformat": 4,
 "nbformat_minor": 5
}
